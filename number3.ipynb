{
 "cells": [
  {
   "cell_type": "code",
   "execution_count": 82,
   "id": "1dc43b0d",
   "metadata": {},
   "outputs": [],
   "source": [
    "import numpy as np\n",
    "from math import factorial"
   ]
  },
  {
   "cell_type": "code",
   "execution_count": 83,
   "id": "5a699fcc",
   "metadata": {},
   "outputs": [
    {
     "name": "stdout",
     "output_type": "stream",
     "text": [
      "0.3762\n"
     ]
    }
   ],
   "source": [
    "#код Монте-Карло\n",
    "k, n = 0, 10000\n",
    "a = np.random.randint(0, 2, n)\n",
    "b = np.random.randint(0, 2, n)\n",
    "c = np.random.randint(0, 2, n)\n",
    "d = np.random.randint(0, 2, n)\n",
    "x = a + b + c + d\n",
    "for i in range(0, n):\n",
    "    if x[i] == 2:\n",
    "        k = k + 1\n",
    "m = k / n\n",
    "print(m)"
   ]
  },
  {
   "cell_type": "code",
   "execution_count": 84,
   "id": "fcf36f89",
   "metadata": {},
   "outputs": [
    {
     "name": "stdout",
     "output_type": "stream",
     "text": [
      "0.375\n"
     ]
    }
   ],
   "source": [
    "#биномиальное распределение\n",
    "n, k = 4, 2\n",
    "c = factorial(n) / ( factorial(k) * factorial(n - k) )\n",
    "p = c / 2**n\n",
    "print(p)"
   ]
  },
  {
   "cell_type": "code",
   "execution_count": 85,
   "id": "bc768a2b",
   "metadata": {},
   "outputs": [
    {
     "name": "stdout",
     "output_type": "stream",
     "text": [
      "0.0031999999999999438\n"
     ]
    }
   ],
   "source": [
    "#сравнение результатов\n",
    "print ((m - p) / p)"
   ]
  },
  {
   "cell_type": "code",
   "execution_count": 86,
   "id": "a415c854",
   "metadata": {},
   "outputs": [],
   "source": [
    "def bernulli(n, k):\n",
    "    c = int(factorial(n) / ( factorial(k) * factorial(n - k) ))\n",
    "    p = c / 2**n\n",
    "    return c, p"
   ]
  },
  {
   "cell_type": "code",
   "execution_count": 87,
   "id": "abc78007",
   "metadata": {},
   "outputs": [
    {
     "data": {
      "text/plain": [
       "(70, 0.2734375)"
      ]
     },
     "execution_count": 87,
     "metadata": {},
     "output_type": "execute_result"
    }
   ],
   "source": [
    "bernulli(8, 4)"
   ]
  },
  {
   "cell_type": "code",
   "execution_count": null,
   "id": "1bd2401e",
   "metadata": {},
   "outputs": [],
   "source": []
  }
 ],
 "metadata": {
  "kernelspec": {
   "display_name": "Python 3 (ipykernel)",
   "language": "python",
   "name": "python3"
  },
  "language_info": {
   "codemirror_mode": {
    "name": "ipython",
    "version": 3
   },
   "file_extension": ".py",
   "mimetype": "text/x-python",
   "name": "python",
   "nbconvert_exporter": "python",
   "pygments_lexer": "ipython3",
   "version": "3.9.7"
  }
 },
 "nbformat": 4,
 "nbformat_minor": 5
}
