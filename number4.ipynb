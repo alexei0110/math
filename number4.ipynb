{
 "cells": [
  {
   "cell_type": "code",
   "execution_count": null,
   "id": "88a1b3d6",
   "metadata": {},
   "outputs": [],
   "source": [
    "import numpy as np\n",
    "import itertools"
   ]
  },
  {
   "cell_type": "code",
   "execution_count": 15,
   "id": "7f396f3e",
   "metadata": {},
   "outputs": [
    {
     "name": "stdout",
     "output_type": "stream",
     "text": [
      "000\n",
      "001\n",
      "002\n",
      "003\n",
      "010\n",
      "011\n",
      "012\n",
      "013\n",
      "020\n",
      "021\n",
      "022\n",
      "023\n",
      "030\n",
      "031\n",
      "032\n",
      "033\n",
      "100\n",
      "101\n",
      "102\n",
      "103\n",
      "110\n",
      "111\n",
      "112\n",
      "113\n",
      "120\n",
      "121\n",
      "122\n",
      "123\n",
      "130\n",
      "131\n",
      "132\n",
      "133\n",
      "200\n",
      "201\n",
      "202\n",
      "203\n",
      "210\n",
      "211\n",
      "212\n",
      "213\n",
      "220\n",
      "221\n",
      "222\n",
      "223\n",
      "230\n",
      "231\n",
      "232\n",
      "233\n",
      "300\n",
      "301\n",
      "302\n",
      "303\n",
      "310\n",
      "311\n",
      "312\n",
      "313\n",
      "320\n",
      "321\n",
      "322\n",
      "323\n",
      "330\n",
      "331\n",
      "332\n",
      "333\n"
     ]
    }
   ],
   "source": [
    "#Размещения\n",
    "for p in itertools.product(\"0123\", repeat=3):\n",
    "    print(''.join(p))   "
   ]
  },
  {
   "cell_type": "code",
   "execution_count": 14,
   "id": "3ca5d7b1",
   "metadata": {},
   "outputs": [
    {
     "name": "stdout",
     "output_type": "stream",
     "text": [
      "01\n",
      "02\n",
      "03\n",
      "04\n",
      "05\n",
      "12\n",
      "13\n",
      "14\n",
      "15\n",
      "23\n",
      "24\n",
      "25\n",
      "34\n",
      "35\n",
      "45\n"
     ]
    }
   ],
   "source": [
    "#Сочетания\n",
    "for p in itertools.combinations('012345', 2):\n",
    "    print(''.join(p)) "
   ]
  },
  {
   "cell_type": "code",
   "execution_count": 18,
   "id": "1ab8a6a5",
   "metadata": {},
   "outputs": [
    {
     "name": "stdout",
     "output_type": "stream",
     "text": [
      "0123\n",
      "0132\n",
      "0213\n",
      "0231\n",
      "0312\n",
      "0321\n",
      "1023\n",
      "1032\n",
      "1203\n",
      "1230\n",
      "1302\n",
      "1320\n",
      "2013\n",
      "2031\n",
      "2103\n",
      "2130\n",
      "2301\n",
      "2310\n",
      "3012\n",
      "3021\n",
      "3102\n",
      "3120\n",
      "3201\n",
      "3210\n"
     ]
    }
   ],
   "source": [
    "#Перестановки\n",
    "for p in itertools.permutations('0123', 4):\n",
    "    print(''.join(p)) "
   ]
  },
  {
   "cell_type": "code",
   "execution_count": null,
   "id": "13b4b7e4",
   "metadata": {},
   "outputs": [],
   "source": []
  },
  {
   "cell_type": "code",
   "execution_count": null,
   "id": "6a1351a5",
   "metadata": {},
   "outputs": [],
   "source": []
  }
 ],
 "metadata": {
  "kernelspec": {
   "display_name": "Python 3 (ipykernel)",
   "language": "python",
   "name": "python3"
  },
  "language_info": {
   "codemirror_mode": {
    "name": "ipython",
    "version": 3
   },
   "file_extension": ".py",
   "mimetype": "text/x-python",
   "name": "python",
   "nbconvert_exporter": "python",
   "pygments_lexer": "ipython3",
   "version": "3.9.7"
  }
 },
 "nbformat": 4,
 "nbformat_minor": 5
}
