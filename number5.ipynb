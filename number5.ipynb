{
 "cells": [
  {
   "cell_type": "code",
   "execution_count": 3,
   "id": "29ee9a4c",
   "metadata": {},
   "outputs": [],
   "source": [
    "%matplotlib inline\n",
    "import numpy as np\n",
    "import matplotlib.pyplot as plt"
   ]
  },
  {
   "cell_type": "code",
   "execution_count": 6,
   "id": "15c53b6e",
   "metadata": {},
   "outputs": [
    {
     "name": "stdout",
     "output_type": "stream",
     "text": [
      "0.7783444832445261 0.11650718006412263\n",
      "0.7783444832445269 0.11650718006412254\n",
      "[ 1.33012092e-18 -9.28492431e-19  7.31647247e-19  1.53444967e-18\n",
      "  1.81782125e-18  1.78503964e-18  3.83881916e-19  1.47028114e-18\n",
      " -1.91479797e-18 -1.35798564e-20 -1.66030232e-18 -3.69148764e-20\n",
      " -7.34785196e-19 -1.78358992e-18 -1.37126912e-18 -8.53220504e-19\n",
      "  1.49021107e-19  1.07881992e-18 -2.23194746e-18  4.80685749e-19\n",
      " -6.02095791e-19  1.57402290e-18 -1.01135139e-18  8.40812324e-19\n",
      " -7.27786483e-19  7.09694708e-19  1.46291388e-19  9.37586991e-20\n",
      " -7.54193445e-19  1.40160824e-18  8.06549469e-20  2.00330513e-18\n",
      " -1.68488891e-18  3.01758019e-19 -6.92822826e-19 -1.29266275e-18\n",
      " -1.12297321e-18 -2.27291898e-18  1.48010814e-18  5.60082202e-19\n",
      " -7.42587944e-19  2.49529027e-18  4.64634147e-20  1.85129257e-18\n",
      " -1.54358893e-18 -2.13228932e-18  3.88168260e-19  1.05660410e-18\n",
      " -2.30214287e-18  1.91256982e-18  1.62784456e-19  1.07763387e-18\n",
      "  1.13213090e-18  1.66445856e-18 -7.55500131e-20 -1.15305900e-18\n",
      "  1.65409947e-18  2.85860170e-18  7.88928668e-19 -2.42460822e-18\n",
      " -9.26333851e-19 -9.23122301e-19  3.68516842e-19 -8.63366169e-20\n",
      " -1.56645909e-18  2.51972867e-18 -6.14522439e-19 -1.67102545e-18\n",
      " -3.85614059e-19 -7.80062957e-19 -1.00184287e-18  1.62723430e-18\n",
      "  1.11675538e-18 -2.48391302e-18  2.17796094e-18  1.08456672e-18\n",
      "  1.88028276e-18 -1.79419944e-19 -2.06156706e-19 -1.66245007e-18\n",
      " -1.55159547e-18  7.79257925e-19 -7.95239587e-19  1.68876370e-18\n",
      "  1.68736656e-19  8.07136922e-19 -5.79316592e-19  1.07877875e-18\n",
      " -2.06582896e-18 -2.58151836e-18 -1.69352367e-18 -1.97972053e-18\n",
      " -1.28000047e-18 -1.66892475e-18 -1.55153583e-18  1.21090428e-18\n",
      "  6.11175268e-19  2.10168463e-18  2.11258589e-18  1.92192239e-18]\n",
      "[[1.         0.96587494]\n",
      " [0.96587494 1.        ]]\n"
     ]
    },
    {
     "name": "stderr",
     "output_type": "stream",
     "text": [
      "C:\\Users\\58A6~1\\AppData\\Local\\Temp/ipykernel_6224/1910349767.py:16: FutureWarning: `rcond` parameter will change to the default of machine precision times ``max(M, N)`` where M and N are the input matrix dimensions.\n",
      "To use the future default and silence this warning we advise to pass `rcond=None`, to keep using the old, explicitly pass `rcond=-1`.\n",
      "  a1, b1 = np.linalg.lstsq(A, y)[0]\n"
     ]
    },
    {
     "data": {
      "image/png": "[encoded data removed]",
      "text/plain": [
       "<Figure size 432x288 with 1 Axes>"
      ]
     },
     "metadata": {
      "needs_background": "light"
     },
     "output_type": "display_data"
    }
   ],
   "source": [
    "n = 100\n",
    "r = 0.8\n",
    "x = np.random.rand(n)\n",
    "y = r * x + (1 - r) * np.random.rand(n)\n",
    "plt.plot(x, y, 'o')\n",
    "plt.xlabel('x')\n",
    "plt.ylabel('y')\n",
    "plt.grid(True)\n",
    "\n",
    "# Ручной расчет коэффициентов регрессии\n",
    "a = (np.sum(x) * np.sum(y) - n * np.sum(x * y)) / (np.sum(x) ** 2 - n * np.sum(x ** 2))\n",
    "b = (np.sum(y) - a * np.sum(x)) / n\n",
    "\n",
    "# Расчет коэффициентов регрессии с помощью библиотеки\n",
    "A = np.vstack([x, np.ones(len(x))]).T\n",
    "a1, b1 = np.linalg.lstsq(A, y)[0]\n",
    "\n",
    "print(a, b)\n",
    "print(a1, b1)\n",
    "\n",
    "# Ручной расчет коэффициентов корреляции\n",
    "R = (np.sum(x - np.mean(x)) * (y - np.mean(y))) / ((np.sum((x - np.mean(x)) ** 2) * np.sum((y - np.mean(y)) ** 2)) ** 2)\n",
    "\n",
    "print(R)\n",
    "\n",
    "# Расчет коэффициентов корреляции с помощью библиотеки\n",
    "c = np.corrcoef(x, y)\n",
    "print(c)\n",
    "\n",
    "plt.plot([0, 1], [b, a + b])\n",
    "plt.show()"
   ]
  },
  {
   "cell_type": "code",
   "execution_count": null,
   "id": "41c88520",
   "metadata": {},
   "outputs": [],
   "source": []
  }
 ],
 "metadata": {
  "kernelspec": {
   "display_name": "Python 3 (ipykernel)",
   "language": "python",
   "name": "python3"
  },
  "language_info": {
   "codemirror_mode": {
    "name": "ipython",
    "version": 3
   },
   "file_extension": ".py",
   "mimetype": "text/x-python",
   "name": "python",
   "nbconvert_exporter": "python",
   "pygments_lexer": "ipython3",
   "version": "3.9.7"
  }
 },
 "nbformat": 4,
 "nbformat_minor": 5
}
