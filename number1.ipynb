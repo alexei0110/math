{
 "cells": [
  {
   "cell_type": "code",
   "execution_count": 1,
   "id": "6d779cc4",
   "metadata": {},
   "outputs": [],
   "source": [
    "%matplotlib inline\n",
    "import numpy as np"
   ]
  },
  {
   "cell_type": "code",
   "execution_count": 26,
   "id": "01cb5d40",
   "metadata": {},
   "outputs": [
    {
     "name": "stdout",
     "output_type": "stream",
     "text": [
      "\n",
      "red 1\n",
      "\n",
      "black 17\n",
      "\n",
      "red 5\n",
      "\n",
      "black 26\n",
      "\n",
      "black 29\n"
     ]
    }
   ],
   "source": [
    "for i in range(0, 5):\n",
    "    a = input()\n",
    "    num = round(np.random.uniform(0, 36))    \n",
    "    if num > 0 and num <= 10:\n",
    "        if num % 2 == 0:\n",
    "            print(f'black {num}')\n",
    "        else:\n",
    "            print(f'red {num}')\n",
    "    elif num >= 10 and num <= 18:\n",
    "        if num % 2 == 0:\n",
    "            print(f'red {num}')\n",
    "        else:\n",
    "            print(f'black {num}')\n",
    "    elif num >= 19 and num <= 28:\n",
    "        if num % 2 == 0:\n",
    "            print(f'black {num}')\n",
    "        else:\n",
    "            print(f'red {num}')\n",
    "    elif num >= 29 and num <= 36:\n",
    "        if num % 2 == 0:\n",
    "            print(f'red {num}')\n",
    "        else:\n",
    "            print(f'black {num}')\n",
    "    else:\n",
    "        print(f'zero {num}')\n",
    "   "
   ]
  },
  {
   "cell_type": "code",
   "execution_count": null,
   "id": "574ea976",
   "metadata": {},
   "outputs": [],
   "source": []
  },
  {
   "cell_type": "code",
   "execution_count": null,
   "id": "16a74f94",
   "metadata": {},
   "outputs": [],
   "source": []
  },
  {
   "cell_type": "code",
   "execution_count": null,
   "id": "030add1b",
   "metadata": {},
   "outputs": [],
   "source": []
  }
 ],
 "metadata": {
  "kernelspec": {
   "display_name": "Python 3 (ipykernel)",
   "language": "python",
   "name": "python3"
  },
  "language_info": {
   "codemirror_mode": {
    "name": "ipython",
    "version": 3
   },
   "file_extension": ".py",
   "mimetype": "text/x-python",
   "name": "python",
   "nbconvert_exporter": "python",
   "pygments_lexer": "ipython3",
   "version": "3.9.7"
  }
 },
 "nbformat": 4,
 "nbformat_minor": 5
}
