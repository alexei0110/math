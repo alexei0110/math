{
 "cells": [
  {
   "cell_type": "code",
   "execution_count": 3,
   "id": "7b2a4398",
   "metadata": {},
   "outputs": [
    {
     "name": "stdout",
     "output_type": "stream",
     "text": [
      "Длина вектора 17.320508075688775\n"
     ]
    }
   ],
   "source": [
    "%matplotlib inline\n",
    "import numpy as np\n",
    "import matplotlib.pyplot as plt\n",
    "import math\n",
    "list = np.array([10,10,10])\n",
    "n=np.linalg.norm(list)\n",
    "print(f'Длина вектора {n}')    "
   ]
  },
  {
   "cell_type": "code",
   "execution_count": 4,
   "id": "f6b3c384",
   "metadata": {},
   "outputs": [
    {
     "name": "stdout",
     "output_type": "stream",
     "text": [
      "Длина вектора 10.0\n"
     ]
    }
   ],
   "source": [
    "list = np.array([0,0,-10])\n",
    "n=np.linalg.norm(list)\n",
    "print(f'Длина вектора {n}')"
   ]
  },
  {
   "cell_type": "code",
   "execution_count": null,
   "id": "50f0a83d",
   "metadata": {},
   "outputs": [],
   "source": []
  },
  {
   "cell_type": "code",
   "execution_count": null,
   "id": "bcb7c503",
   "metadata": {},
   "outputs": [],
   "source": []
  }
 ],
 "metadata": {
  "kernelspec": {
   "display_name": "Python 3 (ipykernel)",
   "language": "python",
   "name": "python3"
  },
  "language_info": {
   "codemirror_mode": {
    "name": "ipython",
    "version": 3
   },
   "file_extension": ".py",
   "mimetype": "text/x-python",
   "name": "python",
   "nbconvert_exporter": "python",
   "pygments_lexer": "ipython3",
   "version": "3.9.7"
  }
 },
 "nbformat": 4,
 "nbformat_minor": 5
}
